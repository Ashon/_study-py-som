{
 "metadata": {
  "name": "",
  "signature": "sha256:97f3b691010027df79fe49b255435770a2d8c08096346cff48e1790f531d0a41"
 },
 "nbformat": 3,
 "nbformat_minor": 0,
 "worksheets": [
  {
   "cells": [
    {
     "cell_type": "code",
     "collapsed": false,
     "input": [
      "import sys\n",
      "import numpy as np\n",
      "import time\n",
      "\n",
      "import matplotlib.pyplot as plt\n",
      "\n",
      "from som import Som\n",
      "from som import FeatureMap\n",
      "import som_util\n",
      "\n",
      "def main():\n",
      "\n",
      "    width = 40\n",
      "    height = 40\n",
      "    som_info = {\n",
      "        'width': width,\n",
      "        'height': height,\n",
      "        'dimension': 4,\n",
      "        'randomize': True,\n",
      "        'threshold': 0.05,\n",
      "        'gain': 500,\n",
      "        'max_iteration': 70,\n",
      "    }\n",
      "    print 'Initialize SOM => %s' % ''.join([\n",
      "        '[%s=%s]' % (key, som_info[key]) for key in som_info.keys()\n",
      "    ])\n",
      "    som = Som(**som_info)\n",
      "\n",
      "    sample_length = 30\n",
      "    print 'Initialize Samples [sample_length=%s]' % sample_length\n",
      "    sample_map = FeatureMap(\n",
      "        width=sample_length, height=1,\n",
      "        dimension=som_info['dimension'], randomize=True)\n",
      "\n",
      "    print 'Train Start'\n",
      "    while som.get_progress() < 1:\n",
      "\n",
      "        som.train_feature_map(sample_map)\n",
      "        som.do_progress()\n",
      "\n",
      "    data = som.map[:, :, 0]\n",
      "    fig, ax = plt.subplots()\n",
      "    heatmap = ax.pcolor(data, cmap=plt.cm.CMRmap)\n",
      "\n",
      "    ax.invert_yaxis()\n",
      "    ax.xaxis.tick_top()\n",
      "\n",
      "    ax.set_xticklabels(range(width), minor=False)\n",
      "    ax.set_yticklabels(range(height), minor=False)\n",
      "    plt.show()\n",
      "    \n",
      "if __name__ == '__main__':\n",
      "    main()\n"
     ],
     "language": "python",
     "metadata": {},
     "outputs": [
      {
       "output_type": "stream",
       "stream": "stdout",
       "text": [
        "Initialize SOM => [height=40][width=40][gain=500][threshold=0.05][max_iteration=30][randomize=True][dimension=4]\n",
        "Initialize Samples [sample_length=30]\n",
        "Train Start\n"
       ]
      }
     ],
     "prompt_number": 5
    },
    {
     "cell_type": "code",
     "collapsed": false,
     "input": [],
     "language": "python",
     "metadata": {},
     "outputs": [],
     "prompt_number": 3
    },
    {
     "cell_type": "code",
     "collapsed": false,
     "input": [],
     "language": "python",
     "metadata": {},
     "outputs": []
    }
   ],
   "metadata": {}
  }
 ]
}